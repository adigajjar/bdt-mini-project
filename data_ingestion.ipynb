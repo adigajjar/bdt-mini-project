{
 "cells": [
  {
   "cell_type": "code",
   "execution_count": 1,
   "metadata": {},
   "outputs": [],
   "source": [
    "from hdfs import InsecureClient\n",
    "import hdfs\n",
    "import json\n",
    "\n",
    "client = InsecureClient('http://localhost:9870', user='hdfs')"
   ]
  },
  {
   "cell_type": "code",
   "execution_count": 15,
   "metadata": {},
   "outputs": [],
   "source": []
  },
  {
   "cell_type": "code",
   "execution_count": 2,
   "metadata": {},
   "outputs": [],
   "source": [
    "import librosa\n",
    "import numpy as np\n",
    "def get_audio_vector(file_path):\n",
    "    y, sr = librosa.load(file_path, sr=None)\n",
    "    # mfccs = librosa.feature.mfcc(y=y, sr=sr, n_mfcc=13)\n",
    "    chroma = np.mean(librosa.feature.chroma_stft(y=y, sr=sr).T, axis=0)\n",
    "    contrast = np.mean(librosa.feature.spectral_contrast(y=y, sr=sr).T, axis=0)\n",
    "    tonnetz = np.mean(librosa.feature.tonnetz(y=y, sr=sr).T, axis=0)\n",
    "    mel = np.mean(librosa.feature.melspectrogram(y=y, sr=sr).T, axis=0)\n",
    "    combined_features = np.hstack([mel, chroma, contrast, tonnetz])\n",
    "    return combined_features"
   ]
  },
  {
   "cell_type": "code",
   "execution_count": 3,
   "metadata": {},
   "outputs": [],
   "source": [
    "from sklearn.feature_extraction.text import TfidfVectorizer\n",
    "corpus = []\n",
    "def get_lyrics_vector(lyrics_file_path):\n",
    "    vectorizer = TfidfVectorizer()\n",
    "    with open(lyrics_file_path, 'r', encoding='utf-8') as f:\n",
    "        lyrics = f.read()\n",
    "        corpus.append(lyrics) \n",
    "    vectorizer.fit(corpus)\n",
    "    lyrics_vector = vectorizer.transform([lyrics]).toarray()[0]\n",
    "    return lyrics_vector"
   ]
  },
  {
   "cell_type": "code",
   "execution_count": null,
   "metadata": {},
   "outputs": [],
   "source": []
  },
  {
   "cell_type": "code",
   "execution_count": 4,
   "metadata": {},
   "outputs": [],
   "source": [
    "lyrics_vectors = {}\n",
    "audio_vectors = {}\n",
    "def process_new_audio_lyrics(audio_path, lyrics_path):\n",
    "    audio_vector = get_audio_vector(audio_path)\n",
    "    lyrics_vector = get_lyrics_vector(lyrics_path)\n",
    "    audio_name = audio_path.split(\"\\\\\")[-1].replace(\".mp3\", \"\")\n",
    "    lyrics_name = lyrics_path.split(\"\\\\\")[-1].replace(\".txt\", \"\")\n",
    "    lyrics_vectors[lyrics_name] = lyrics_vector\n",
    "    audio_vectors[audio_name] = audio_vector\n",
    "    return audio_vectors, lyrics_vectors"
   ]
  },
  {
   "cell_type": "code",
   "execution_count": 5,
   "metadata": {},
   "outputs": [],
   "source": [
    "audio_vectors, lyrics_vectors = process_new_audio_lyrics(r\"D:\\FSD_MINI_PROJECT\\queen\\Bohemian Rhapsody.mp3\", r\"D:\\FSD_MINI_PROJECT\\queen\\lyrics\\Bohemian Rhapsody.txt\")"
   ]
  },
  {
   "cell_type": "code",
   "execution_count": 6,
   "metadata": {},
   "outputs": [
    {
     "data": {
      "text/plain": [
       "({'Bohemian Rhapsody': array([ 6.09590113e-03,  1.03906039e-02,  3.04836053e-02,  1.19622551e-01,\n",
       "          2.17081904e-01,  3.19116950e-01,  1.82764828e+00,  3.08535290e+00,\n",
       "          4.36979580e+00,  4.70543671e+00,  4.22294331e+00,  8.90342236e+00,\n",
       "          8.12477589e+00,  3.20686007e+00,  5.70249939e+00,  2.39161015e+00,\n",
       "          1.20780551e+00,  1.80049551e+00,  3.44644022e+00,  3.50871110e+00,\n",
       "          1.69209445e+00,  4.97614288e+00,  3.17243671e+00,  6.29165053e-01,\n",
       "          2.39625001e+00,  7.25278795e-01,  7.40950704e-01,  2.04781628e+00,\n",
       "          2.79257941e+00,  3.64835596e+00,  4.59038734e-01,  4.53052163e-01,\n",
       "          2.20671225e+00,  1.89988875e+00,  4.95699137e-01,  1.17468953e+00,\n",
       "          3.57594919e+00,  1.22280836e+00,  5.21957517e-01,  1.32475853e-01,\n",
       "          1.69203684e-01,  8.90788078e-01,  9.64829743e-01,  3.30497205e-01,\n",
       "          3.05466652e-01,  1.13907003e+00,  4.51401383e-01,  1.42448768e-01,\n",
       "          5.43589234e-01,  5.74684381e-01,  4.01491046e-01,  2.80345678e-01,\n",
       "          1.69152036e-01,  1.32611454e-01,  2.20964715e-01,  1.43403530e-01,\n",
       "          1.05959840e-01,  3.24222475e-01,  3.24710637e-01,  1.18680120e-01,\n",
       "          1.17192686e-01,  8.94065797e-02,  1.81223795e-01,  3.41341972e-01,\n",
       "          1.54894024e-01,  6.88484386e-02,  7.48028085e-02,  7.35019520e-02,\n",
       "          3.26735973e-02,  2.07056273e-02,  6.14209473e-02,  5.16201891e-02,\n",
       "          7.67803490e-02,  1.05566725e-01,  8.72676820e-02,  5.30938320e-02,\n",
       "          3.68628912e-02,  2.48108860e-02,  1.40875401e-02,  8.76474846e-03,\n",
       "          4.80413530e-03,  3.45904287e-03,  3.11604259e-03,  2.54467758e-03,\n",
       "          2.62543652e-03,  3.02099506e-03,  3.35561903e-03,  4.27989522e-03,\n",
       "          4.77567874e-03,  4.54913639e-03,  5.88372257e-03,  6.53456990e-03,\n",
       "          9.67351627e-03,  1.37230884e-02,  1.63352452e-02,  1.54271657e-02,\n",
       "          9.50052869e-03,  8.29801336e-03,  6.66526984e-03,  5.69492951e-03,\n",
       "          4.41307528e-03,  4.10094345e-03,  3.06744967e-03,  1.50767656e-03,\n",
       "          1.38008350e-03,  8.33236030e-04,  7.19990639e-04,  8.91762611e-04,\n",
       "          9.48411005e-04,  7.50972016e-04,  4.59626812e-04,  3.70317313e-04,\n",
       "          2.83792673e-04,  2.54420593e-04,  2.14920248e-04,  1.69625375e-04,\n",
       "          1.47018131e-04,  6.82292084e-05,  3.01751170e-05,  1.76043415e-07,\n",
       "          4.93089285e-11,  3.92062806e-11,  3.59583786e-11,  4.32026775e-11,\n",
       "          3.66414364e-11,  3.82579385e-11,  2.73738896e-11,  3.76086315e-11,\n",
       "          2.94683039e-01,  2.69166023e-01,  4.05879438e-01,  3.73253793e-01,\n",
       "          3.07386309e-01,  4.37280297e-01,  3.36393386e-01,  4.32914793e-01,\n",
       "          2.73609132e-01,  3.48418027e-01,  4.84747022e-01,  3.26381236e-01,\n",
       "          1.34336592e+01,  1.46466618e+01,  1.92489182e+01,  2.09742414e+01,\n",
       "          2.02429837e+01,  2.78509517e+01,  5.52155118e+01,  2.50012745e-03,\n",
       "          1.56221194e-01,  1.65765434e-02, -9.70295061e-02,  2.38910147e-02,\n",
       "         -1.54730137e-02])},\n",
       " {'Bohemian Rhapsody': array([0.0230817 , 0.0230817 , 0.0230817 , 0.0230817 , 0.09232682,\n",
       "         0.0230817 , 0.13849022, 0.06924511, 0.0230817 , 0.0230817 ,\n",
       "         0.0230817 , 0.0230817 , 0.0230817 , 0.04616341, 0.0230817 ,\n",
       "         0.0230817 , 0.0230817 , 0.0230817 , 0.0230817 , 0.0230817 ,\n",
       "         0.06924511, 0.04616341, 0.0230817 , 0.0230817 , 0.0230817 ,\n",
       "         0.06924511, 0.0230817 , 0.04616341, 0.09232682, 0.04616341,\n",
       "         0.0230817 , 0.06924511, 0.0230817 , 0.0230817 , 0.0230817 ,\n",
       "         0.0230817 , 0.04616341, 0.04616341, 0.0230817 , 0.0230817 ,\n",
       "         0.0230817 , 0.09232682, 0.0230817 , 0.0230817 , 0.0230817 ,\n",
       "         0.0230817 , 0.0230817 , 0.0230817 , 0.0230817 , 0.0230817 ,\n",
       "         0.0230817 , 0.06924511, 0.0230817 , 0.06924511, 0.11540852,\n",
       "         0.04616341, 0.34622556, 0.0230817 , 0.0230817 , 0.0230817 ,\n",
       "         0.06924511, 0.0230817 , 0.0230817 , 0.0230817 , 0.04616341,\n",
       "         0.04616341, 0.0230817 , 0.0230817 , 0.0230817 , 0.06924511,\n",
       "         0.04616341, 0.04616341, 0.04616341, 0.04616341, 0.0230817 ,\n",
       "         0.18465363, 0.0230817 , 0.0230817 , 0.0230817 , 0.04616341,\n",
       "         0.27698045, 0.06924511, 0.0230817 , 0.0230817 , 0.06924511,\n",
       "         0.0230817 , 0.0230817 , 0.0230817 , 0.0230817 , 0.0230817 ,\n",
       "         0.0230817 , 0.09232682, 0.06924511, 0.04616341, 0.0230817 ,\n",
       "         0.09232682, 0.39238896, 0.0230817 , 0.06924511, 0.0230817 ,\n",
       "         0.0230817 , 0.09232682, 0.0230817 , 0.11540852, 0.23081704,\n",
       "         0.0230817 , 0.13849022, 0.09232682, 0.04616341, 0.0230817 ,\n",
       "         0.04616341, 0.04616341, 0.11540852, 0.0230817 , 0.0230817 ,\n",
       "         0.0230817 , 0.0230817 , 0.09232682, 0.0230817 , 0.04616341,\n",
       "         0.0230817 , 0.0230817 , 0.11540852, 0.0230817 , 0.04616341,\n",
       "         0.06924511, 0.0230817 , 0.0230817 , 0.0230817 , 0.0230817 ,\n",
       "         0.04616341, 0.0230817 , 0.0230817 , 0.0230817 , 0.0230817 ,\n",
       "         0.0230817 , 0.0230817 , 0.0230817 , 0.18465363, 0.04616341,\n",
       "         0.11540852, 0.0230817 , 0.0230817 , 0.06924511, 0.18465363,\n",
       "         0.0230817 , 0.0230817 , 0.0230817 , 0.0230817 , 0.0230817 ,\n",
       "         0.04616341, 0.06924511, 0.04616341, 0.0230817 , 0.06924511,\n",
       "         0.06924511, 0.16157193, 0.06924511, 0.0230817 , 0.04616341,\n",
       "         0.32314385, 0.0230817 ])})"
      ]
     },
     "execution_count": 6,
     "metadata": {},
     "output_type": "execute_result"
    }
   ],
   "source": [
    "audio_vectors, lyrics_vectors"
   ]
  },
  {
   "cell_type": "code",
   "execution_count": 7,
   "metadata": {},
   "outputs": [],
   "source": [
    "def convert_ndarray_to_list(data):\n",
    "    if isinstance(data, dict):\n",
    "        return {k: convert_ndarray_to_list(v) for k, v in data.items()}\n",
    "    elif isinstance(data, np.ndarray):\n",
    "        return data.tolist()\n",
    "    else:\n",
    "        return data\n"
   ]
  },
  {
   "cell_type": "code",
   "execution_count": 8,
   "metadata": {},
   "outputs": [],
   "source": [
    "audio_vectors = convert_ndarray_to_list(audio_vectors)\n",
    "lyrics_vectors = convert_ndarray_to_list(lyrics_vectors)"
   ]
  },
  {
   "cell_type": "code",
   "execution_count": 9,
   "metadata": {},
   "outputs": [],
   "source": [
    "def save_to_json(data, file_name):\n",
    "    local_temp_file = f'{file_name}.json'\n",
    "    data_converted = convert_ndarray_to_list(data)\n",
    "    with open(local_temp_file, 'w') as f:\n",
    "        json.dump(data_converted, f)"
   ]
  },
  {
   "cell_type": "code",
   "execution_count": 10,
   "metadata": {},
   "outputs": [],
   "source": [
    "save_to_json(audio_vectors, 'new_audio_vectors')\n",
    "save_to_json(lyrics_vectors, 'new_lyrics_vectors')"
   ]
  },
  {
   "cell_type": "code",
   "execution_count": 11,
   "metadata": {},
   "outputs": [],
   "source": [
    "def read_json_from_hdfs(hdfs_path):\n",
    "    with client.read(hdfs_path, encoding='utf-8') as reader:\n",
    "        return json.load(reader)"
   ]
  },
  {
   "cell_type": "code",
   "execution_count": 12,
   "metadata": {},
   "outputs": [],
   "source": [
    "audio_vectors_path = '/bdt_vectors/audio_vectors.json'\n",
    "lyrics_vectors_path = '/bdt_vectors/lyrics_vectors.json'"
   ]
  },
  {
   "cell_type": "code",
   "execution_count": 13,
   "metadata": {},
   "outputs": [],
   "source": [
    "audio_vectors = read_json_from_hdfs(audio_vectors_path)\n",
    "lyrics_vectors = read_json_from_hdfs(lyrics_vectors_path)"
   ]
  },
  {
   "cell_type": "code",
   "execution_count": 14,
   "metadata": {},
   "outputs": [],
   "source": [
    "with open('new_audio_vectors.json','r') as f:\n",
    "    data_audio = json.load(f)\n",
    "with open('new_lyrics_vectors.json') as f:\n",
    "    data_lyrics = json.load(f)"
   ]
  },
  {
   "cell_type": "code",
   "execution_count": 15,
   "metadata": {},
   "outputs": [],
   "source": [
    "audio_vectors.update(data_audio)\n",
    "lyrics_vectors.update(data_lyrics)"
   ]
  },
  {
   "cell_type": "code",
   "execution_count": null,
   "metadata": {},
   "outputs": [],
   "source": []
  },
  {
   "cell_type": "code",
   "execution_count": 16,
   "metadata": {},
   "outputs": [],
   "source": [
    "with open('audio_vectors.json', 'w') as f:\n",
    "    json.dump(audio_vectors, f)\n",
    "with open('lyrics_vectors.json', 'w') as f:\n",
    "    json.dump(lyrics_vectors, f)"
   ]
  },
  {
   "cell_type": "code",
   "execution_count": 17,
   "metadata": {},
   "outputs": [],
   "source": [
    "def write_json_to_hdfs(path, combined):\n",
    "    with open(combined, 'r') as f:\n",
    "        combined = json.load(f)\n",
    "    \n",
    "    combined = json.dumps(combined)\n",
    "    with client.write(path, overwrite=True) as writer:\n",
    "        writer.write(combined)"
   ]
  },
  {
   "cell_type": "code",
   "execution_count": 18,
   "metadata": {},
   "outputs": [],
   "source": [
    "write_json_to_hdfs(audio_vectors_path, 'audio_vectors.json')"
   ]
  },
  {
   "cell_type": "code",
   "execution_count": 19,
   "metadata": {},
   "outputs": [],
   "source": [
    "write_json_to_hdfs(lyrics_vectors_path, 'lyrics_vectors.json')"
   ]
  },
  {
   "cell_type": "code",
   "execution_count": 42,
   "metadata": {},
   "outputs": [],
   "source": [
    "def read_json_from_hdfs(client, hdfs_path):\n",
    "    with client.read(hdfs_path, encoding='utf-8') as reader:\n",
    "        return json.load(reader)"
   ]
  },
  {
   "cell_type": "code",
   "execution_count": 43,
   "metadata": {},
   "outputs": [],
   "source": [
    "def write_json_to_hdfs(client, path, combined):\n",
    "    with open(combined, 'r') as f:\n",
    "        combined = json.load(f)\n",
    "    \n",
    "    combined = json.dumps(combined)\n",
    "    with client.write(path, overwrite=True) as writer:\n",
    "        writer.write(combined)"
   ]
  },
  {
   "cell_type": "code",
   "execution_count": 46,
   "metadata": {},
   "outputs": [],
   "source": [
    "import os\n",
    "audio_vectors = {}\n",
    "lyrics_vectors = {}\n",
    "def ingest_data(artist_path):\n",
    "    client = InsecureClient('http://localhost:9870', user='hdfs')\n",
    "    audio_vectors_path = '/bdt_vectors/audio_vectors.json'\n",
    "    lyrics_vectors_path = '/bdt_vectors/lyrics_vectors.json'\n",
    "    song_files = []\n",
    "    lyrics_files = []\n",
    "    artist_path = r\"D:\\FSD_MINI_PROJECT\\queen\"\n",
    "    for song in os.listdir(artist_path):\n",
    "        if song.endswith('.mp3') or song.endswith('.wav'):\n",
    "            song_files.append(os.path.join(artist_path, song))\n",
    "        else:\n",
    "            lyrics_path = os.path.join(artist_path, song)\n",
    "            for file in os.listdir(lyrics_path):\n",
    "                if file.endswith(\".txt\"):\n",
    "                    lyrics_files.append(os.path.join(lyrics_path, file))\n",
    "\n",
    "    for k,v in dict(zip(song_files, lyrics_files)).items():\n",
    "        audio_vectors, lyrics_vectors = process_new_audio_lyrics(k, v)\n",
    "        audio_vectors = convert_ndarray_to_list(audio_vectors)\n",
    "        lyrics_vectors = convert_ndarray_to_list(lyrics_vectors)\n",
    "        save_to_json(audio_vectors, 'new_audio_vectors')\n",
    "        save_to_json(lyrics_vectors, 'new_lyrics_vectors')\n",
    "        audio_vectors = read_json_from_hdfs(client, audio_vectors_path)\n",
    "        lyrics_vectors = read_json_from_hdfs(client, lyrics_vectors_path)\n",
    "        with open('new_audio_vectors.json','r') as f:\n",
    "            data_audio = json.load(f)\n",
    "        with open('new_lyrics_vectors.json') as f:\n",
    "            data_lyrics = json.load(f)\n",
    "        audio_vectors.update(data_audio)\n",
    "        lyrics_vectors.update(data_lyrics)\n",
    "        with open('audio_vectors.json', 'w') as f:\n",
    "            json.dump(audio_vectors, f)\n",
    "        with open('lyrics_vectors.json', 'w') as f:\n",
    "            json.dump(lyrics_vectors, f)\n",
    "        write_json_to_hdfs(client, audio_vectors_path, 'audio_vectors.json')\n",
    "        write_json_to_hdfs(client, lyrics_vectors_path, 'lyrics_vectors.json')\n",
    "        print(\"Written!\")\n",
    "\n",
    "\n",
    "        "
   ]
  },
  {
   "cell_type": "code",
   "execution_count": 47,
   "metadata": {},
   "outputs": [
    {
     "name": "stdout",
     "output_type": "stream",
     "text": [
      "Written!\n",
      "Written!\n",
      "Written!\n",
      "Written!\n",
      "Written!\n"
     ]
    }
   ],
   "source": [
    "ingest_data(\"D:\\FSD_MINI_PROJECT\\queen\")"
   ]
  }
 ],
 "metadata": {
  "kernelspec": {
   "display_name": "Python 3",
   "language": "python",
   "name": "python3"
  },
  "language_info": {
   "codemirror_mode": {
    "name": "ipython",
    "version": 3
   },
   "file_extension": ".py",
   "mimetype": "text/x-python",
   "name": "python",
   "nbconvert_exporter": "python",
   "pygments_lexer": "ipython3",
   "version": "3.11.9"
  }
 },
 "nbformat": 4,
 "nbformat_minor": 2
}
