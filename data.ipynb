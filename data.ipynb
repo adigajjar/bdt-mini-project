{
 "cells": [
  {
   "cell_type": "code",
   "execution_count": null,
   "metadata": {},
   "outputs": [],
   "source": [
    "!pip install pytube"
   ]
  },
  {
   "cell_type": "code",
   "execution_count": null,
   "metadata": {},
   "outputs": [],
   "source": [
    "from pytube import YouTube\n",
    "from pydub import AudioSegment\n",
    "\n",
    "def download_audio_preview(video_url):\n",
    "    yt = YouTube(video_url)\n",
    "    audio_stream = yt.streams.filter(only_audio=True).first()\n",
    "\n",
    "    audio_file = audio_stream.download(filename='audio.mp4')\n",
    "\n",
    "    audio = AudioSegment.from_file(audio_file)\n",
    "\n",
    "    preview_audio = audio[:30000]\n",
    "\n",
    "    preview_audio.export('preview_audio.mp3', format='mp3')\n",
    "    print(\"Preview saved as preview_audio.mp3\")\n",
    "video_url = 'https://www.youtube.com/watch?v=hggjZ-FGGkw'\n",
    "download_audio_preview(video_url)\n"
   ]
  },
  {
   "cell_type": "code",
   "execution_count": null,
   "metadata": {},
   "outputs": [],
   "source": []
  },
  {
   "cell_type": "code",
   "execution_count": null,
   "metadata": {},
   "outputs": [],
   "source": [
    "import pymongo\n",
    "client = pymongo.MongoClient(\"mongodb://localhost:27017/\")\n",
    "print(\"Connected!\")\n",
    "db = client['audio']"
   ]
  },
  {
   "cell_type": "code",
   "execution_count": null,
   "metadata": {},
   "outputs": [],
   "source": [
    "import gridfs\n",
    "\n",
    "fs = gridfs.GridFS(db)"
   ]
  },
  {
   "cell_type": "code",
   "execution_count": null,
   "metadata": {},
   "outputs": [],
   "source": [
    "def upload_mp3(file_path):\n",
    "    with open(file_path, 'rb') as mp3_file:\n",
    "        file_id = fs.put(mp3_file, filename='aud.mp3')\n",
    "        print(f'File uploaded with ID: {file_id}')\n",
    "        return file_id\n",
    "\n",
    "file_id = upload_mp3('preview_audio.mp3')"
   ]
  },
  {
   "cell_type": "code",
   "execution_count": null,
   "metadata": {},
   "outputs": [],
   "source": []
  },
  {
   "cell_type": "code",
   "execution_count": null,
   "metadata": {},
   "outputs": [],
   "source": [
    "def get_audio(file_id):\n",
    "    file = fs.get(file_id)\n",
    "    return file.read()"
   ]
  },
  {
   "cell_type": "code",
   "execution_count": null,
   "metadata": {},
   "outputs": [],
   "source": [
    "audio_data = get_audio(file_id=file_id)"
   ]
  },
  {
   "cell_type": "code",
   "execution_count": null,
   "metadata": {},
   "outputs": [],
   "source": [
    "from pydub import AudioSegment\n",
    "import simpleaudio as sa\n",
    "from io import BytesIO\n",
    "\n",
    "def play_audio(audio_data):\n",
    "    audio = AudioSegment.from_file(BytesIO(audio_data), format=\"mp3\")\n",
    "\n",
    "    play_obj = sa.play_buffer(audio.raw_data, num_channels=audio.channels,\n",
    "                              bytes_per_sample=audio.sample_width,\n",
    "                              sample_rate=audio.frame_rate)\n",
    "    play_obj.wait_done()\n",
    "\n",
    "\n",
    "play_audio(audio_data)\n"
   ]
  },
  {
   "cell_type": "code",
   "execution_count": null,
   "metadata": {},
   "outputs": [],
   "source": [
    "def list_files():\n",
    "    files = fs.find()\n",
    "    for file in files:\n",
    "        print(f'File ID: {file._id}, Filename: {file.filename}')\n",
    "\n",
    "list_files()"
   ]
  }
 ],
 "metadata": {
  "kernelspec": {
   "display_name": "Python 3",
   "language": "python",
   "name": "python3"
  },
  "language_info": {
   "codemirror_mode": {
    "name": "ipython",
    "version": 3
   },
   "file_extension": ".py",
   "mimetype": "text/x-python",
   "name": "python",
   "nbconvert_exporter": "python",
   "pygments_lexer": "ipython3",
   "version": "3.11.9"
  }
 },
 "nbformat": 4,
 "nbformat_minor": 2
}
