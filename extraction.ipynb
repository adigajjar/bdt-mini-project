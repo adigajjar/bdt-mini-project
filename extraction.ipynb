{
 "cells": [
  {
   "cell_type": "code",
   "execution_count": null,
   "metadata": {},
   "outputs": [
    {
     "name": "stdout",
     "output_type": "stream",
     "text": [
      "Downloading first 30 seconds of songs from playlist: <bound method Sequence.count of ['https://www.youtube.com/watch?v=bSnlKl_PoQU', 'https://www.youtube.com/watch?v=8r3FaCiVFbA', 'https://www.youtube.com/watch?v=ISqudnwua6I', 'https://www.youtube.com/watch?v=bdf_ll68Z8o', 'https://www.youtube.com/watch?v=tsTH9TpxU_Y', 'https://www.youtube.com/watch?v=bR-gZQLO26w', 'https://www.youtube.com/watch?v=MkQK83Tf9so', 'https://www.youtube.com/watch?v=j5_0E38dQPw', 'https://www.youtube.com/watch?v=x8hUwP_5Qc4', 'https://www.youtube.com/watch?v=Gk781Z0ErmA', 'https://www.youtube.com/watch?v=lWxQ55EsOVs', 'https://www.youtube.com/watch?v=BOCe62_vdzY', 'https://www.youtube.com/watch?v=ETIXhgZWHgg', 'https://www.youtube.com/watch?v=2bqm4gRY3mA', 'https://www.youtube.com/watch?v=zaCbInoHK8I', 'https://www.youtube.com/watch?v=fQ6zw7p0rVE', 'https://www.youtube.com/watch?v=RzHYFWkD8KA', 'https://www.youtube.com/watch?v=N2qk6VZokx0', 'https://www.youtube.com/watch?v=hBp4dgE7Bho', 'https://www.youtube.com/watch?v=ijWF73_-gZs', 'https://www.youtube.com/watch?v=B4Z8UR-GrOU', 'https://www.youtube.com/watch?v=YIswHByjHq8', 'https://www.youtube.com/watch?v=0T257Fw_Q00', 'https://www.youtube.com/watch?v=dWcTD5UhUIk', 'https://www.youtube.com/watch?v=BARVxErrsqM', 'https://www.youtube.com/watch?v=Y09eLk7g1Co', 'https://www.youtube.com/watch?v=Bgg6HflR-78', 'https://www.youtube.com/watch?v=zl1VTdW3djw', 'https://www.youtube.com/watch?v=yPtMiS-Pa6U', 'https://www.youtube.com/watch?v=uqSnMf3nN9Q', 'https://www.youtube.com/watch?v=KtCLqjQ2ST4', 'https://www.youtube.com/watch?v=NCjU6cpDW-I', 'https://www.youtube.com/watch?v=aoaYW6zsmm8', 'https://www.youtube.com/watch?v=9zrYXvUXiQk', 'https://www.youtube.com/watch?v=eRDofDXGX5Q', 'https://www.youtube.com/watch?v=bTpzloOWeUQ', 'https://www.youtube.com/watch?v=F8RFQ7jsOw4', 'https://www.youtube.com/watch?v=Ipp6Hsp0L4c', 'https://www.youtube.com/watch?v=0QbbRbHcCsg', 'https://www.youtube.com/watch?v=2sb4WoN27-c', 'https://www.youtube.com/watch?v=jiimVjS2DHo', 'https://www.youtube.com/watch?v=Dku4Pj3DijE', 'https://www.youtube.com/watch?v=j3ZIHe8eTlo', 'https://www.youtube.com/watch?v=IC_eeHZw3ns', 'https://www.youtube.com/watch?v=cwsh5APb6Bk', 'https://www.youtube.com/watch?v=JBdmhsH5wRo', 'https://www.youtube.com/watch?v=0uWkaoYt_1E', 'https://www.youtube.com/watch?v=n07pySTwQOA', 'https://www.youtube.com/watch?v=Rix3hoKJoMA', 'https://www.youtube.com/watch?v=aJMrBi264mc', 'https://www.youtube.com/watch?v=QlzZ1FKTyuc', 'https://www.youtube.com/watch?v=keVH4_WdgmI', 'https://www.youtube.com/watch?v=Dr0Gf6OzdBM', 'https://www.youtube.com/watch?v=BvSUJh4ZWXo', 'https://www.youtube.com/watch?v=MDd7lDHTpeg', 'https://www.youtube.com/watch?v=rn8W99JjrwQ', 'https://www.youtube.com/watch?v=Brx2zS3Zc2A', 'https://www.youtube.com/watch?v=HTv39Ep88Uo', 'https://www.youtube.com/watch?v=lXPftnU63mQ', 'https://www.youtube.com/watch?v=-59OCG33AWo', 'https://www.youtube.com/watch?v=GdpzlStGKBU', 'https://www.youtube.com/watch?v=NtUANoNnC2U', 'https://www.youtube.com/watch?v=H9V-3-e4MzI', 'https://www.youtube.com/watch?v=Z1ooGKZPxCQ', 'https://www.youtube.com/watch?v=kvpuIpQv-kg', 'https://www.youtube.com/watch?v=t_0SUml2U9w', 'https://www.youtube.com/watch?v=GkKQxyyovO8', 'https://www.youtube.com/watch?v=xJ-5aaHLzPg', 'https://www.youtube.com/watch?v=Ymj7IVkT5CY', 'https://www.youtube.com/watch?v=pOQV5g-7ZhY', 'https://www.youtube.com/watch?v=IDpKV6WFYSo', 'https://www.youtube.com/watch?v=7anX1CkLMoo', 'https://www.youtube.com/watch?v=81t8mi5i0X0', 'https://www.youtube.com/watch?v=ja8lWt5Dvk4', 'https://www.youtube.com/watch?v=uVztTfNAZNI', 'https://www.youtube.com/watch?v=lAJzDkR0gZA', 'https://www.youtube.com/watch?v=EGrfB8xDaqI', 'https://www.youtube.com/watch?v=SYGgxFM8JAU', 'https://www.youtube.com/watch?v=zLpCXoBYr-U', 'https://www.youtube.com/watch?v=cofXigOZsq8', 'https://www.youtube.com/watch?v=b9ssoyyE5_I', 'https://www.youtube.com/watch?v=4mYlpPQ6e9A', 'https://www.youtube.com/watch?v=WKxp2J-IvrY', 'https://www.youtube.com/watch?v=zPtmMsTpGSs', 'https://www.youtube.com/watch?v=dsJozEEqI70', 'https://www.youtube.com/watch?v=n4frepOvwQU', 'https://www.youtube.com/watch?v=LAlGB9qYzPw', 'https://www.youtube.com/watch?v=yvQYV520tS8', 'https://www.youtube.com/watch?v=Dp7HXynT1-o', 'https://www.youtube.com/watch?v=NLkDhrzgrI8', 'https://www.youtube.com/watch?v=248_MbDJoWc', 'https://www.youtube.com/watch?v=kRjgg-QO0s8', 'https://www.youtube.com/watch?v=s87XvfIu9Ug', 'https://www.youtube.com/watch?v=R0NlEkaVFW0', 'https://www.youtube.com/watch?v=8iQKzrcmv7A', 'https://www.youtube.com/watch?v=9z7NpFKBWAg', 'https://www.youtube.com/watch?v=jO3mtMUQGRw', 'https://www.youtube.com/watch?v=a7p8zi5TZxc', 'https://www.youtube.com/watch?v=xYGpgUgXzhg', 'https://www.youtube.com/watch?v=z6l23vczbXk', 'https://www.youtube.com/watch?v=71kqNZBpU78', 'https://www.youtube.com/watch?v=-BhIPx2gQW0', 'https://www.youtube.com/watch?v=Hz67ZKukKQs', 'https://www.youtube.com/watch?v=9NiO75yVlEI', 'https://www.youtube.com/watch?v=3oRtAv3UX7Q', 'https://www.youtube.com/watch?v=4QYmnpPu6BA', 'https://www.youtube.com/watch?v=x41U5B9sNVQ', 'https://www.youtube.com/watch?v=BK0C3LsXCJo', 'https://www.youtube.com/watch?v=P-Si2CF3bp4', 'https://www.youtube.com/watch?v=29WvESKj_b4', 'https://www.youtube.com/watch?v=D2u4Vqb9tqc', 'https://www.youtube.com/watch?v=F7tV-jtt0fE', 'https://www.youtube.com/watch?v=ro9QAtTnihc', 'https://www.youtube.com/watch?v=coF7yjO-OcY', 'https://www.youtube.com/watch?v=lZAxdzMP32A', 'https://www.youtube.com/watch?v=iJ8KPA6tk5o', 'https://www.youtube.com/watch?v=aA7ptpxeVxU', 'https://www.youtube.com/watch?v=TofrnM6k_vI', 'https://www.youtube.com/watch?v=872ffZSpg3M', 'https://www.youtube.com/watch?v=_KWerX_b_kc', 'https://www.youtube.com/watch?v=Z1Gnyri-yOE', 'https://www.youtube.com/watch?v=adJ6XQ_glpo', 'https://www.youtube.com/watch?v=JWG_GaszzH4', 'https://www.youtube.com/watch?v=n_rS6UkS8FA', 'https://www.youtube.com/watch?v=OPGz0FzvVs8', 'https://www.youtube.com/watch?v=-z7_AftuiPs', 'https://www.youtube.com/watch?v=T9fLwz7aKUk', 'https://www.youtube.com/watch?v=4doFLAi37Z0', 'https://www.youtube.com/watch?v=jOVTPYS2nB4', 'https://www.youtube.com/watch?v=ib7UsX4NWzk', 'https://www.youtube.com/watch?v=ZZjCrkTLj_0', 'https://www.youtube.com/watch?v=rwSkGZNvUGI', 'https://www.youtube.com/watch?v=SNZ7-V8QCA8', 'https://www.youtube.com/watch?v=EykIL1yv224', 'https://www.youtube.com/watch?v=iBYhwi-cVyY', 'https://www.youtube.com/watch?v=Fv3Hl3zQQiI', 'https://www.youtube.com/watch?v=cgufZXs5Diw', 'https://www.youtube.com/watch?v=YO-i_adE9k4', 'https://www.youtube.com/watch?v=bdXvrtxGkYc', 'https://www.youtube.com/watch?v=2CW9Pd3W15I', 'https://www.youtube.com/watch?v=F4Y6O-cnxEw', 'https://www.youtube.com/watch?v=TsMwoSSFEP0', 'https://www.youtube.com/watch?v=8_hOex6cSWc', 'https://www.youtube.com/watch?v=vjf_ONz5CtA', 'https://www.youtube.com/watch?v=FWc5P-ovuj0']>\n",
      "Downloaded: Bohemian Rhapsody\n",
      "Trimmed: Bohemian Rhapsody\n",
      "Downloaded: I Want To Break Free (Single Remix)\n",
      "Trimmed: I Want To Break Free (Single Remix)\n",
      "Downloaded: Don't Stop Me Now\n",
      "Trimmed: Don't Stop Me Now\n",
      "Downloaded: Another One Bites The Dust\n",
      "Trimmed: Another One Bites The Dust\n",
      "Downloaded: We Will Rock You\n",
      "Trimmed: We Will Rock You\n"
     ]
    }
   ],
   "source": [
    "from pytube import Playlist, YouTube\n",
    "from pydub import AudioSegment\n",
    "import os\n",
    "import re\n",
    "\n",
    "def sanitize_filename(filename):\n",
    "    return re.sub(r'[<>:\"/\\\\|?*]', '', filename)\n",
    "\n",
    "def download_and_trim_audio(playlist_url, duration=30):\n",
    "    playlist = Playlist(playlist_url)\n",
    "    \n",
    "    print(f\"Downloading first {duration} seconds of songs from playlist: {playlist.count}\")\n",
    "\n",
    "    output_dir = \"queen\"\n",
    "    os.makedirs(output_dir, exist_ok=True)\n",
    "    video_urls = playlist.video_urls[:5]\n",
    "\n",
    "    for url in video_urls:\n",
    "        try:\n",
    "            yt = YouTube(url)\n",
    "            \n",
    "            audio_stream = yt.streams.filter(only_audio=True).first()\n",
    "            \n",
    "            sanitized_title = sanitize_filename(yt.title)\n",
    "\n",
    "            audio_file = audio_stream.download(output_path=output_dir, filename=f\"{sanitized_title}.mp3\")\n",
    "            print(f\"Downloaded: {yt.title}\")\n",
    "\n",
    "            audio = AudioSegment.from_file(audio_file)\n",
    "  \n",
    "            trimmed_audio = audio[:duration * 1000]  # `duration` seconds in milliseconds\n",
    "\n",
    "            trimmed_audio.export(os.path.join(output_dir, f\"{sanitized_title}.mp3\"), format=\"mp3\")\n",
    "            print(f\"Trimmed: {yt.title}\")\n",
    "\n",
    "            os.remove(audio_file)\n",
    "        \n",
    "        except Exception as e:\n",
    "            print(f\"Error processing {url}: {e}\")\n",
    "\n",
    "# Example usage\n",
    "playlist_url = 'https://music.youtube.com/playlist?list=OLAK5uy_k1shthGfZd9raDVyW94KdQI-Mv1zbvGsQ'\n",
    "download_and_trim_audio(playlist_url)\n"
   ]
  },
  {
   "cell_type": "code",
   "execution_count": 10,
   "metadata": {},
   "outputs": [
    {
     "name": "stdout",
     "output_type": "stream",
     "text": [
      "Cover Image URL: https://i.scdn.co/image/ab67616d0000b2739478c87599550dd73bfa7e02\n"
     ]
    }
   ],
   "source": [
    "# import spotipy\n",
    "# from spotipy.oauth2 import SpotifyClientCredentials\n",
    "\n",
    "# # Set up your Spotify credentials\n",
    "# sp = spotipy.Spotify(auth_manager=SpotifyClientCredentials(client_id='db2dcc9e6bd64a448d70678d7bead802',\n",
    "#                                                            client_secret='97f812a917e0466b893ea8a31b210ac2'))\n",
    "\n",
    "# def get_cover_image_url(song_title):\n",
    "#     # Search for the song\n",
    "#     results = sp.search(q=song_title, type='track', limit=1)\n",
    "#     tracks = results['tracks']['items']\n",
    "    \n",
    "#     if tracks:\n",
    "#         # Get the first track from the results\n",
    "#         track = tracks[0]\n",
    "#         # Extract the cover image URL\n",
    "#         cover_image_url = track['album']['images'][0]['url']\n",
    "#         return cover_image_url\n",
    "#     else:\n",
    "#         return None\n",
    "\n",
    "# # Replace 'Song Title' with the title of the song you're searching for\n",
    "# cover_image_url = get_cover_image_url('Circles')\n",
    "# if cover_image_url:\n",
    "#     print('Cover Image URL:', cover_image_url)\n",
    "# else:\n",
    "#     print('Song not found')\n"
   ]
  },
  {
   "cell_type": "code",
   "execution_count": null,
   "metadata": {},
   "outputs": [
    {
     "name": "stdout",
     "output_type": "stream",
     "text": [
      "Searching for \"Another One Bites The Dust\" by Queen...\n",
      "Done.\n",
      "Lyrics for 'Another One Bites The Dust' by Queen saved to D:\\FSD_MINI_PROJECT\\queen\\lyrics\\Another One Bites The Dust.txt\n",
      "Searching for \"Bohemian Rhapsody\" by Queen...\n",
      "Done.\n",
      "Lyrics for 'Bohemian Rhapsody' by Queen saved to D:\\FSD_MINI_PROJECT\\queen\\lyrics\\Bohemian Rhapsody.txt\n",
      "Searching for \"Don't Stop Me Now\" by Queen...\n",
      "Done.\n",
      "Lyrics for 'Don't Stop Me Now' by Queen saved to D:\\FSD_MINI_PROJECT\\queen\\lyrics\\Don't Stop Me Now.txt\n",
      "Searching for \"I Want To Break Free (Single Remix)\" by Queen...\n",
      "Done.\n",
      "Lyrics for 'I Want To Break Free (Single Remix)' by Queen saved to D:\\FSD_MINI_PROJECT\\queen\\lyrics\\I Want To Break Free (Single Remix).txt\n",
      "Searching for \"We Will Rock You\" by Queen...\n",
      "Done.\n",
      "Lyrics for 'We Will Rock You' by Queen saved to D:\\FSD_MINI_PROJECT\\queen\\lyrics\\We Will Rock You.txt\n"
     ]
    }
   ],
   "source": [
    "import os\n",
    "import lyricsgenius\n",
    "\n",
    "genius = lyricsgenius.Genius(\"ISPOFCa2RMYicq8Ky-lakWcRZT0mqR6c2qEjs9Bg9zHrXKElh1wTYA-gt6gmGBtr\")\n",
    "\n",
    "root_directory = r\"D:\\FSD_MINI_PROJECT\\queen\"\n",
    "output_directory = os.path.join(root_directory, \"lyrics\")\n",
    "\n",
    "artist_name = \"Queen\"\n",
    "\n",
    "os.makedirs(output_directory, exist_ok=True)\n",
    "\n",
    "def clean_song_title(song_filename):\n",
    "    return song_filename.replace(\"_trimmed\", \"\").replace(\".mp3\", \"\").replace(\".wav\", \"\").replace(\".flac\", \"\").strip()\n",
    "\n",
    "for root, dirs, files in os.walk(root_directory):\n",
    "    if root == root_directory:\n",
    "        song_count = 0  \n",
    "        \n",
    "        for file in files:\n",
    "            if song_count >= 5:\n",
    "                break\n",
    "\n",
    "            song_title = clean_song_title(file)\n",
    "            \n",
    "            song = genius.search_song(song_title, artist_name)\n",
    "        \n",
    "            if song:\n",
    "                lyrics = song.lyrics\n",
    "                output_file_path = os.path.join(output_directory, f\"{song_title}.txt\")\n",
    "            \n",
    "                with open(output_file_path, \"w\", encoding=\"utf-8\") as f:\n",
    "                    f.write(lyrics)\n",
    "                \n",
    "                print(f\"Lyrics for '{song_title}' by {artist_name} saved to {output_file_path}\")\n",
    "                song_count += 1\n",
    "            else:\n",
    "                print(f\"Lyrics for '{song_title}' by {artist_name} not found.\")\n",
    "        \n",
    "       \n",
    "        break\n"
   ]
  },
  {
   "cell_type": "code",
   "execution_count": null,
   "metadata": {},
   "outputs": [
    {
     "name": "stdout",
     "output_type": "stream",
     "text": [
      "Removed first line from: Another One Bites The Dust.txt\n",
      "Error processing Bohemian Rhapsody.txt: 'charmap' codec can't decode byte 0x81 in position 84: character maps to <undefined>\n",
      "Error processing Don't Stop Me Now.txt: 'charmap' codec can't decode byte 0x81 in position 33: character maps to <undefined>\n",
      "Removed first line from: I Want To Break Free (Single Remix).txt\n",
      "Removed first line from: We Will Rock You.txt\n"
     ]
    }
   ],
   "source": [
    "import os\n",
    "\n",
    "def remove_first_line_from_txt_files(directory):\n",
    "    for filename in os.listdir(directory):\n",
    "        if filename.endswith('.txt'):\n",
    "            file_path = os.path.join(directory, filename)\n",
    "            try:\n",
    "                with open(file_path, 'r') as file:\n",
    "        \n",
    "                    lines = file.readlines()[1:]\n",
    "  \n",
    "                with open(file_path, 'w') as file:\n",
    "                    file.writelines(lines)\n",
    "                \n",
    "                print(f\"Removed first line from: {filename}\")\n",
    "            except Exception as e:\n",
    "                print(f\"Error processing {filename}: {e}\")\n",
    "\n",
    "directory_path = r'D:\\FSD_MINI_PROJECT\\queen\\lyrics'\n",
    "remove_first_line_from_txt_files(directory_path)"
   ]
  },
  {
   "cell_type": "code",
   "execution_count": null,
   "metadata": {},
   "outputs": [
    {
     "name": "stdout",
     "output_type": "stream",
     "text": [
      "Renamed: D:\\FSD_MINI_PROJECT\\queen\\Another One Bites The Dust_trimmed.mp3 -> D:\\FSD_MINI_PROJECT\\queen\\Another One Bites The Dust.mp3\n",
      "Renamed: D:\\FSD_MINI_PROJECT\\queen\\Bohemian Rhapsody_trimmed.mp3 -> D:\\FSD_MINI_PROJECT\\queen\\Bohemian Rhapsody.mp3\n",
      "Renamed: D:\\FSD_MINI_PROJECT\\queen\\Don't Stop Me Now_trimmed.mp3 -> D:\\FSD_MINI_PROJECT\\queen\\Don't Stop Me Now.mp3\n",
      "Renamed: D:\\FSD_MINI_PROJECT\\queen\\I Want To Break Free (Single Remix)_trimmed.mp3 -> D:\\FSD_MINI_PROJECT\\queen\\I Want To Break Free (Single Remix).mp3\n",
      "Renamed: D:\\FSD_MINI_PROJECT\\queen\\We Will Rock You_trimmed.mp3 -> D:\\FSD_MINI_PROJECT\\queen\\We Will Rock You.mp3\n"
     ]
    }
   ],
   "source": [
    "import os\n",
    "\n",
    "def rename_mp3_files(root_folder):\n",
    "    for root, dirs, files in os.walk(root_folder):\n",
    "        for file in files:\n",
    "\n",
    "            if file.endswith(\"_trimmed.mp3\"):\n",
    " \n",
    "                old_file_path = os.path.join(root, file)\n",
    " \n",
    "                new_file_name = file.replace(\"_trimmed\", \"\")\n",
    "                new_file_path = os.path.join(root, new_file_name)\n",
    "                \n",
    "    \n",
    "                os.rename(old_file_path, new_file_path)\n",
    "                print(f\"Renamed: {old_file_path} -> {new_file_path}\")\n",
    "\n",
    "\n",
    "artists_folder = r'D:\\FSD_MINI_PROJECT\\queen'  \n",
    "\n",
    "# Call the function\n",
    "rename_mp3_files(artists_folder)\n"
   ]
  }
 ],
 "metadata": {
  "kernelspec": {
   "display_name": "Python 3",
   "language": "python",
   "name": "python3"
  },
  "language_info": {
   "codemirror_mode": {
    "name": "ipython",
    "version": 3
   },
   "file_extension": ".py",
   "mimetype": "text/x-python",
   "name": "python",
   "nbconvert_exporter": "python",
   "pygments_lexer": "ipython3",
   "version": "3.11.9"
  }
 },
 "nbformat": 4,
 "nbformat_minor": 2
}
